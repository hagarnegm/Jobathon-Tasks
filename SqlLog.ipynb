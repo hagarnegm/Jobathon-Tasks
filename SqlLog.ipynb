{
 "cells": [
  {
   "cell_type": "markdown",
   "id": "7090313a",
   "metadata": {},
   "source": [
    "# SqlLog Task"
   ]
  },
  {
   "cell_type": "markdown",
   "id": "93f3161d",
   "metadata": {},
   "source": [
    "Database Connection"
   ]
  },
  {
   "cell_type": "code",
   "execution_count": 56,
   "id": "f699ad1d",
   "metadata": {},
   "outputs": [],
   "source": [
    "import psycopg2\n",
    "\n",
    "conn = psycopg2.connect(host=\"localhost\", database=\"postgres\", user=\"postgres\", password=\"postgrespass\")"
   ]
  },
  {
   "cell_type": "markdown",
   "id": "5c8b6b10",
   "metadata": {},
   "source": [
    "Dropping table if it exists and creating a new logs table for testing final query"
   ]
  },
  {
   "cell_type": "code",
   "execution_count": 57,
   "id": "a44c7f51",
   "metadata": {},
   "outputs": [],
   "source": [
    "cur = conn.cursor()\n",
    " \n",
    "cur.execute('''DROP TABLE IF EXISTS logs''')   \n",
    "    \n",
    "cur.execute('''CREATE TABLE logs (\n",
    "                    user_id INT NOT NULL,\n",
    "                    login_time TIMESTAMP NOT NULL\n",
    "            )'''\n",
    ")    "
   ]
  },
  {
   "cell_type": "markdown",
   "id": "0120f7d3",
   "metadata": {},
   "source": [
    "Inserting sample data into table"
   ]
  },
  {
   "cell_type": "code",
   "execution_count": 58,
   "id": "7418b451",
   "metadata": {},
   "outputs": [],
   "source": [
    "cur.execute('''INSERT INTO logs(user_id, login_time)\n",
    "               values(30, timestamp '2020-02-08 12:08:29')\n",
    "            '''\n",
    ")\n",
    "\n",
    "cur.execute('''INSERT INTO logs(user_id, login_time)\n",
    "               values(8, timestamp '2020-02-20 11:22:00')\n",
    "            '''\n",
    ")\n",
    "\n",
    "cur.execute('''INSERT INTO logs(user_id, login_time)\n",
    "               values(3, timestamp '2020-02-20 18:00:00')\n",
    "            '''\n",
    ")\n",
    "\n",
    "cur.execute('''INSERT INTO logs(user_id, login_time)\n",
    "               values(4, timestamp '2020-01-13 16:42:01')\n",
    "            '''\n",
    ")\n",
    "\n",
    "cur.execute('''INSERT INTO logs(user_id, login_time)\n",
    "               values(3, timestamp '2020-02-20 11:22:01')\n",
    "            '''\n",
    ")\n",
    "\n",
    "cur.execute('''INSERT INTO logs(user_id, login_time)\n",
    "               values(4, timestamp '2020-02-20 13:30:30')\n",
    "            '''\n",
    ")"
   ]
  },
  {
   "cell_type": "markdown",
   "id": "dc342622",
   "metadata": {},
   "source": [
    "Loading logs table to check data has been correctly inserted"
   ]
  },
  {
   "cell_type": "code",
   "execution_count": 65,
   "id": "bfbeb656",
   "metadata": {},
   "outputs": [
    {
     "data": {
      "text/plain": [
       "[(30, datetime.datetime(2020, 2, 8, 12, 8, 29)),\n",
       " (8, datetime.datetime(2020, 2, 20, 11, 22)),\n",
       " (3, datetime.datetime(2020, 2, 20, 18, 0)),\n",
       " (4, datetime.datetime(2020, 1, 13, 16, 42, 1)),\n",
       " (3, datetime.datetime(2020, 2, 20, 11, 22, 1)),\n",
       " (4, datetime.datetime(2020, 2, 20, 13, 30, 30))]"
      ]
     },
     "execution_count": 65,
     "metadata": {},
     "output_type": "execute_result"
    }
   ],
   "source": [
    "cur.execute('''SELECT * FROM logs''')\n",
    "\n",
    "logs_table = cur.fetchall()\n",
    "logs_table"
   ]
  },
  {
   "cell_type": "markdown",
   "id": "2ab995ab",
   "metadata": {},
   "source": [
    "## Final Query"
   ]
  },
  {
   "cell_type": "code",
   "execution_count": 70,
   "id": "44d35f39",
   "metadata": {},
   "outputs": [],
   "source": [
    "cur.execute('''SELECT distinct(user_id) FROM logs as user_id\n",
    "               WHERE login_time > '2020-02-20 11:22:00'\n",
    "               ORDER BY user_id ASC\n",
    "'''\n",
    ")"
   ]
  },
  {
   "cell_type": "code",
   "execution_count": 71,
   "id": "98d37471",
   "metadata": {},
   "outputs": [
    {
     "data": {
      "text/plain": [
       "[(3,), (4,)]"
      ]
     },
     "execution_count": 71,
     "metadata": {},
     "output_type": "execute_result"
    }
   ],
   "source": [
    "result = cur.fetchall()\n",
    "result"
   ]
  },
  {
   "cell_type": "code",
   "execution_count": 75,
   "id": "2079f607",
   "metadata": {
    "collapsed": true
   },
   "outputs": [
    {
     "name": "stderr",
     "output_type": "stream",
     "text": [
      "D:\\Hagar\\anaconda3\\envs\\hello-spark\\lib\\site-packages\\pandas\\io\\sql.py:761: UserWarning: pandas only support SQLAlchemy connectable(engine/connection) ordatabase string URI or sqlite3 DBAPI2 connectionother DBAPI2 objects are not tested, please consider using SQLAlchemy\n",
      "  warnings.warn(\n"
     ]
    }
   ],
   "source": [
    "import pandas.io.sql as psql\n",
    "\n",
    "result = psql.read_sql('''SELECT distinct(user_id) FROM logs as user_id\n",
    "               WHERE login_time > '2020-02-20 11:22:00'\n",
    "               ORDER BY user_id ASC\n",
    "''', con=conn)"
   ]
  },
  {
   "cell_type": "markdown",
   "id": "d3da3f2c",
   "metadata": {},
   "source": [
    "### Example Result"
   ]
  },
  {
   "cell_type": "code",
   "execution_count": 76,
   "id": "cda399f1",
   "metadata": {},
   "outputs": [
    {
     "data": {
      "text/html": [
       "<div>\n",
       "<style scoped>\n",
       "    .dataframe tbody tr th:only-of-type {\n",
       "        vertical-align: middle;\n",
       "    }\n",
       "\n",
       "    .dataframe tbody tr th {\n",
       "        vertical-align: top;\n",
       "    }\n",
       "\n",
       "    .dataframe thead th {\n",
       "        text-align: right;\n",
       "    }\n",
       "</style>\n",
       "<table border=\"1\" class=\"dataframe\">\n",
       "  <thead>\n",
       "    <tr style=\"text-align: right;\">\n",
       "      <th></th>\n",
       "      <th>user_id</th>\n",
       "    </tr>\n",
       "  </thead>\n",
       "  <tbody>\n",
       "    <tr>\n",
       "      <th>0</th>\n",
       "      <td>3</td>\n",
       "    </tr>\n",
       "    <tr>\n",
       "      <th>1</th>\n",
       "      <td>4</td>\n",
       "    </tr>\n",
       "  </tbody>\n",
       "</table>\n",
       "</div>"
      ],
      "text/plain": [
       "   user_id\n",
       "0        3\n",
       "1        4"
      ]
     },
     "execution_count": 76,
     "metadata": {},
     "output_type": "execute_result"
    }
   ],
   "source": [
    "result"
   ]
  },
  {
   "cell_type": "code",
   "execution_count": 77,
   "id": "f492eb1f",
   "metadata": {},
   "outputs": [],
   "source": [
    "cur.close()\n",
    "conn.close()"
   ]
  }
 ],
 "metadata": {
  "kernelspec": {
   "display_name": "Python 3 (ipykernel)",
   "language": "python",
   "name": "python3"
  },
  "language_info": {
   "codemirror_mode": {
    "name": "ipython",
    "version": 3
   },
   "file_extension": ".py",
   "mimetype": "text/x-python",
   "name": "python",
   "nbconvert_exporter": "python",
   "pygments_lexer": "ipython3",
   "version": "3.9.13"
  }
 },
 "nbformat": 4,
 "nbformat_minor": 5
}
