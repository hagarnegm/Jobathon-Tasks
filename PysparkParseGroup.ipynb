{
 "cells": [
  {
   "cell_type": "markdown",
   "id": "25fc2a0b",
   "metadata": {},
   "source": [
    "# PysparkParseGroup Task"
   ]
  },
  {
   "cell_type": "markdown",
   "id": "48b57e19",
   "metadata": {},
   "source": [
    "Initially, a pyspark context and an sql context are created"
   ]
  },
  {
   "cell_type": "code",
   "execution_count": 1,
   "id": "f1667bda",
   "metadata": {
    "collapsed": true
   },
   "outputs": [
    {
     "name": "stderr",
     "output_type": "stream",
     "text": [
      "D:\\Hagar\\anaconda3\\envs\\hello-spark\\lib\\site-packages\\pyspark\\sql\\context.py:112: FutureWarning: Deprecated in 3.0.0. Use SparkSession.builder.getOrCreate() instead.\n",
      "  warnings.warn(\n"
     ]
    }
   ],
   "source": [
    "import pyspark\n",
    "from pyspark import SparkContext\n",
    "from pyspark.sql import SQLContext\n",
    "\n",
    "sc = SparkContext()\n",
    "sqlContext = SQLContext(sc)"
   ]
  },
  {
   "cell_type": "markdown",
   "id": "4966904d",
   "metadata": {},
   "source": [
    "The data is then loaded into a dataframe"
   ]
  },
  {
   "cell_type": "code",
   "execution_count": 2,
   "id": "a5419eed",
   "metadata": {},
   "outputs": [],
   "source": [
    "jobs = sqlContext.read.csv(\"jobs.csv\", header=True, inferSchema=True)"
   ]
  },
  {
   "cell_type": "markdown",
   "id": "81e4d562",
   "metadata": {},
   "source": [
    "Inspecting the top 5 rows in the dataframe "
   ]
  },
  {
   "cell_type": "code",
   "execution_count": 3,
   "id": "eb24e620",
   "metadata": {},
   "outputs": [
    {
     "name": "stdout",
     "output_type": "stream",
     "text": [
      "+------------------+--------------+\n",
      "|              name|           job|\n",
      "+------------------+--------------+\n",
      "|    Candice Turner|        Banker|\n",
      "|      Keith Flores|      Designer|\n",
      "|     Jason Collins|         Pilot|\n",
      "|      Jimmy Lawson|       Barista|\n",
      "|Ms. Crystal Travis|Office manager|\n",
      "+------------------+--------------+\n",
      "only showing top 5 rows\n",
      "\n"
     ]
    }
   ],
   "source": [
    "jobs.show(5)"
   ]
  },
  {
   "cell_type": "markdown",
   "id": "af713f1d",
   "metadata": {},
   "source": [
    "Inspecting the schema"
   ]
  },
  {
   "cell_type": "code",
   "execution_count": 5,
   "id": "c56e8792",
   "metadata": {},
   "outputs": [
    {
     "name": "stdout",
     "output_type": "stream",
     "text": [
      "root\n",
      " |-- name: string (nullable = true)\n",
      " |-- job: string (nullable = true)\n",
      "\n"
     ]
    }
   ],
   "source": [
    "jobs.printSchema()"
   ]
  },
  {
   "cell_type": "markdown",
   "id": "f91284cc",
   "metadata": {},
   "source": [
    "The dataframe is then grouped by job, aggregated by job count and then sorted"
   ]
  },
  {
   "cell_type": "code",
   "execution_count": 17,
   "id": "7b6caeae",
   "metadata": {},
   "outputs": [],
   "source": [
    "job_frequency = jobs.groupby(\"job\").agg({\"job\": \"count\"}).sort(\"count(job)\", \"job\")"
   ]
  },
  {
   "cell_type": "code",
   "execution_count": 18,
   "id": "494dd998",
   "metadata": {},
   "outputs": [
    {
     "name": "stdout",
     "output_type": "stream",
     "text": [
      "+-----------------+----------+\n",
      "|              job|count(job)|\n",
      "+-----------------+----------+\n",
      "|            Pilot|        15|\n",
      "|          Teacher|        24|\n",
      "|          Barista|        28|\n",
      "|         Designer|        29|\n",
      "|           Banker|        31|\n",
      "|   Office manager|        31|\n",
      "|Software engineer|        33|\n",
      "|           Dancer|        34|\n",
      "|            Nurse|        34|\n",
      "|      Film editor|        40|\n",
      "+-----------------+----------+\n",
      "\n"
     ]
    }
   ],
   "source": [
    "job_frequency.show()"
   ]
  },
  {
   "cell_type": "markdown",
   "id": "a68bda59",
   "metadata": {},
   "source": [
    "The resulting dataframe is then converted into a dictionary"
   ]
  },
  {
   "cell_type": "code",
   "execution_count": 26,
   "id": "af2bbc9a",
   "metadata": {},
   "outputs": [
    {
     "data": {
      "text/plain": [
       "{'Pilot': 15,\n",
       " 'Teacher': 24,\n",
       " 'Barista': 28,\n",
       " 'Designer': 29,\n",
       " 'Banker': 31,\n",
       " 'Office manager': 31,\n",
       " 'Software engineer': 33,\n",
       " 'Dancer': 34,\n",
       " 'Nurse': 34,\n",
       " 'Film editor': 40}"
      ]
     },
     "execution_count": 26,
     "metadata": {},
     "output_type": "execute_result"
    }
   ],
   "source": [
    "dict(job_frequency.collect())"
   ]
  },
  {
   "cell_type": "markdown",
   "id": "816edc2f",
   "metadata": {},
   "source": [
    "## The final function"
   ]
  },
  {
   "cell_type": "code",
   "execution_count": 27,
   "id": "8b7efa42",
   "metadata": {},
   "outputs": [],
   "source": [
    "def group_sort(input_path):\n",
    "    jobs = sqlContext.read.csv(input_path, header=True, inferSchema=True)\n",
    "    job_frequency = jobs.groupby(\"job\").agg({\"job\": \"count\"}).sort(\"count(job)\", \"job\")\n",
    "    return dict(job_frequency.collect())"
   ]
  },
  {
   "cell_type": "markdown",
   "id": "bb0b48d9",
   "metadata": {},
   "source": [
    "### Result"
   ]
  },
  {
   "cell_type": "code",
   "execution_count": 28,
   "id": "7e9e4e8f",
   "metadata": {},
   "outputs": [
    {
     "data": {
      "text/plain": [
       "{'Pilot': 15,\n",
       " 'Teacher': 24,\n",
       " 'Barista': 28,\n",
       " 'Designer': 29,\n",
       " 'Banker': 31,\n",
       " 'Office manager': 31,\n",
       " 'Software engineer': 33,\n",
       " 'Dancer': 34,\n",
       " 'Nurse': 34,\n",
       " 'Film editor': 40}"
      ]
     },
     "execution_count": 28,
     "metadata": {},
     "output_type": "execute_result"
    }
   ],
   "source": [
    "group_sort(\"jobs.csv\")"
   ]
  }
 ],
 "metadata": {
  "kernelspec": {
   "display_name": "Python 3 (ipykernel)",
   "language": "python",
   "name": "python3"
  },
  "language_info": {
   "codemirror_mode": {
    "name": "ipython",
    "version": 3
   },
   "file_extension": ".py",
   "mimetype": "text/x-python",
   "name": "python",
   "nbconvert_exporter": "python",
   "pygments_lexer": "ipython3",
   "version": "3.9.13"
  }
 },
 "nbformat": 4,
 "nbformat_minor": 5
}
